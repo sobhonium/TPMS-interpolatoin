{
 "cells": [
  {
   "cell_type": "code",
   "execution_count": 1,
   "id": "df8dfd8a-54d1-4987-a5c6-1c248a1d1664",
   "metadata": {},
   "outputs": [],
   "source": [
    "from minisurf.trig import Gyroid "
   ]
  },
  {
   "cell_type": "code",
   "execution_count": 2,
   "id": "10983420-b3bd-4281-86b0-7ec3639dabca",
   "metadata": {},
   "outputs": [],
   "source": [
    "gyroid = Gyroid()"
   ]
  },
  {
   "cell_type": "code",
   "execution_count": null,
   "id": "21488a91-58ca-4ef9-83f8-022fbb4c8338",
   "metadata": {},
   "outputs": [],
   "source": []
  },
  {
   "cell_type": "code",
   "execution_count": 3,
   "id": "478a725d-70ee-44fe-b0b2-dd949c5ad661",
   "metadata": {},
   "outputs": [
    {
     "data": {
      "text/plain": [
       "-2.4492935982947064e-16"
      ]
     },
     "execution_count": 3,
     "metadata": {},
     "output_type": "execute_result"
    }
   ],
   "source": [
    "gyroid(0, 0, 1) # equal to gyroid(0,0,1, ax=1, bx=1, cx=1) "
   ]
  },
  {
   "cell_type": "code",
   "execution_count": 4,
   "id": "d2a9f6c4-dec0-4292-9a76-6686f51aa5af",
   "metadata": {},
   "outputs": [
    {
     "ename": "TypeError",
     "evalue": "__call__() got an unexpected keyword argument 'bx'",
     "output_type": "error",
     "traceback": [
      "\u001b[0;31m---------------------------------------------------------------------------\u001b[0m",
      "\u001b[0;31mTypeError\u001b[0m                                 Traceback (most recent call last)",
      "Input \u001b[0;32mIn [4]\u001b[0m, in \u001b[0;36m<cell line: 1>\u001b[0;34m()\u001b[0m\n\u001b[0;32m----> 1\u001b[0m \u001b[43mgyroid\u001b[49m\u001b[43m(\u001b[49m\u001b[38;5;241;43m0\u001b[39;49m\u001b[43m,\u001b[49m\u001b[38;5;241;43m0\u001b[39;49m\u001b[43m,\u001b[49m\u001b[38;5;241;43m1\u001b[39;49m\u001b[43m,\u001b[49m\u001b[43m \u001b[49m\u001b[43max\u001b[49m\u001b[38;5;241;43m=\u001b[39;49m\u001b[38;5;241;43m1\u001b[39;49m\u001b[43m,\u001b[49m\u001b[43m \u001b[49m\u001b[43mbx\u001b[49m\u001b[38;5;241;43m=\u001b[39;49m\u001b[38;5;241;43m1\u001b[39;49m\u001b[43m,\u001b[49m\u001b[43m \u001b[49m\u001b[43mcx\u001b[49m\u001b[38;5;241;43m=\u001b[39;49m\u001b[38;5;241;43m2\u001b[39;49m\u001b[43m)\u001b[49m\n",
      "\u001b[0;31mTypeError\u001b[0m: __call__() got an unexpected keyword argument 'bx'"
     ]
    }
   ],
   "source": [
    "gyroid(0,0,1, ax=1, bx=1, cx=2)"
   ]
  },
  {
   "cell_type": "code",
   "execution_count": null,
   "id": "d8d64407-89c5-4654-bdc8-e0a1bc9e5090",
   "metadata": {},
   "outputs": [],
   "source": []
  },
  {
   "cell_type": "code",
   "execution_count": null,
   "id": "17665515-b87b-4ebe-b181-55fa73747dc3",
   "metadata": {},
   "outputs": [],
   "source": [
    "from mpl_toolkits import mplot3d"
   ]
  },
  {
   "cell_type": "code",
   "execution_count": null,
   "id": "d9faa59b-22e6-4a0a-8c1d-b7eee0d096fd",
   "metadata": {},
   "outputs": [],
   "source": []
  },
  {
   "cell_type": "code",
   "execution_count": 10,
   "id": "50527270-ec9c-4c76-b95b-1c3c49ee9ff0",
   "metadata": {},
   "outputs": [],
   "source": [
    "from itertools import product\n",
    "import numpy as np"
   ]
  },
  {
   "cell_type": "code",
   "execution_count": null,
   "id": "fb148721-eb63-4783-a54b-18887cbaae0b",
   "metadata": {},
   "outputs": [],
   "source": [
    "\n",
    "type(product(np.array([3]), repeat=2))"
   ]
  },
  {
   "cell_type": "code",
   "execution_count": null,
   "id": "2962dba7-ef2f-415b-9eb6-233674376b9a",
   "metadata": {},
   "outputs": [],
   "source": [
    "type(product(np.array([3]), repeat=2)) == 'itertools.product'"
   ]
  },
  {
   "cell_type": "code",
   "execution_count": null,
   "id": "f3666da7-d3cd-4b98-9820-a880befdf6d2",
   "metadata": {},
   "outputs": [],
   "source": [
    "np.array(product(np.array([3]), repeat=2))"
   ]
  },
  {
   "cell_type": "code",
   "execution_count": null,
   "id": "c8af3f9d-f376-42aa-8f65-8757c2ec16a1",
   "metadata": {},
   "outputs": [],
   "source": [
    "import itertools\n",
    "type(product(np.array([3]), repeat=2))== itertools.product"
   ]
  },
  {
   "cell_type": "code",
   "execution_count": null,
   "id": "2872334b-4429-4244-97e9-d9eafd66e131",
   "metadata": {},
   "outputs": [],
   "source": [
    "isinstance(product(np.array([3]), repeat=2), itertools.product)"
   ]
  },
  {
   "cell_type": "code",
   "execution_count": null,
   "id": "7b0143ac-676f-4182-babf-d0d6d5e2c4d4",
   "metadata": {},
   "outputs": [],
   "source": [
    "tuple(product(np.array([3]), repeat=3))"
   ]
  },
  {
   "cell_type": "code",
   "execution_count": null,
   "id": "c2c0cc58-02a3-4d81-bf48-b06a16b299b8",
   "metadata": {},
   "outputs": [],
   "source": []
  },
  {
   "cell_type": "code",
   "execution_count": null,
   "id": "fc9a12a4-cfc6-4257-a139-1da75ff926aa",
   "metadata": {},
   "outputs": [],
   "source": [
    "np.indices((8, 8, 8))"
   ]
  },
  {
   "cell_type": "code",
   "execution_count": 15,
   "id": "607e1889-47bb-465f-a8f9-0851a648cc3c",
   "metadata": {},
   "outputs": [],
   "source": [
    "import numpy as np\n",
    "from minisurf.trig import Gyroid, Primitive, FisherS"
   ]
  },
  {
   "cell_type": "code",
   "execution_count": 6,
   "id": "838864fd-580e-4366-a3e7-40d86b7a19da",
   "metadata": {},
   "outputs": [],
   "source": [
    "\n",
    "gyroid = Gyroid()"
   ]
  },
  {
   "cell_type": "code",
   "execution_count": 7,
   "id": "ed92e9a7-9eb8-428f-ab84-73ae09c1be3a",
   "metadata": {},
   "outputs": [
    {
     "data": {
      "text/plain": [
       "-7.347880794884119e-16"
      ]
     },
     "execution_count": 7,
     "metadata": {},
     "output_type": "execute_result"
    }
   ],
   "source": [
    "gyroid(1,1,1)"
   ]
  },
  {
   "cell_type": "code",
   "execution_count": null,
   "id": "ecc96ab7-42c8-491d-9646-59d7a824151f",
   "metadata": {},
   "outputs": [],
   "source": [
    "siz=5\n",
    "b=np.arange(0,siz)\n",
    "a=(b,b,b,b,b,b)\n",
    "gyroid(*a)"
   ]
  },
  {
   "cell_type": "code",
   "execution_count": null,
   "id": "27a04a34-0af5-4399-afab-b8190bb10a9b",
   "metadata": {},
   "outputs": [],
   "source": [
    "X, Y, Z = np.mgrid[:30, :30, :30]"
   ]
  },
  {
   "cell_type": "code",
   "execution_count": null,
   "id": "5fc76d73-4dd6-4e7a-99cf-101944042bcc",
   "metadata": {},
   "outputs": [],
   "source": [
    "a=(X,Y,Z)\n",
    "gyroid(*a, ax=1, by=2, cz=1).shape"
   ]
  },
  {
   "cell_type": "code",
   "execution_count": null,
   "id": "291e9126-00cb-47e4-a0d3-8d298ef2449c",
   "metadata": {},
   "outputs": [],
   "source": [
    "lt = list([[1,2,3], [4,5,6]])"
   ]
  },
  {
   "cell_type": "code",
   "execution_count": null,
   "id": "134abb98-5ef6-427d-9d2d-48fdb0997b19",
   "metadata": {},
   "outputs": [],
   "source": [
    "lt*5"
   ]
  },
  {
   "cell_type": "code",
   "execution_count": null,
   "id": "d6be7ecd-e1f1-4896-bf4c-09f2a7bbe81e",
   "metadata": {},
   "outputs": [],
   "source": []
  },
  {
   "cell_type": "code",
   "execution_count": 16,
   "id": "a4a9137f-41a7-47f1-ac5c-330e5a248c96",
   "metadata": {},
   "outputs": [
    {
     "data": {
      "text/plain": [
       "[(0.0, 0.0, 0.0),\n",
       " (0.0, 0.0, 2.0),\n",
       " (0.0, 2.0, 0.0),\n",
       " (0.0, 2.0, 2.0),\n",
       " (2.0, 0.0, 0.0),\n",
       " (2.0, 0.0, 2.0),\n",
       " (2.0, 2.0, 0.0),\n",
       " (2.0, 2.0, 2.0)]"
      ]
     },
     "execution_count": 16,
     "metadata": {},
     "output_type": "execute_result"
    }
   ],
   "source": [
    "a = list(product(np.linspace(0,2,2), repeat=3))\n",
    "a"
   ]
  },
  {
   "cell_type": "code",
   "execution_count": 17,
   "id": "206e59b0-f393-4895-a56f-3b1f4e164eb9",
   "metadata": {},
   "outputs": [
    {
     "data": {
      "text/plain": [
       "[(3.0, 3.0, 3.0),\n",
       " (3.0, 3.0, 4.0),\n",
       " (3.0, 4.0, 3.0),\n",
       " (3.0, 4.0, 4.0),\n",
       " (4.0, 3.0, 3.0),\n",
       " (4.0, 3.0, 4.0),\n",
       " (4.0, 4.0, 3.0),\n",
       " (4.0, 4.0, 4.0)]"
      ]
     },
     "execution_count": 17,
     "metadata": {},
     "output_type": "execute_result"
    }
   ],
   "source": [
    "b = list(product(np.linspace(3,4,2), repeat=3))\n",
    "b"
   ]
  },
  {
   "cell_type": "code",
   "execution_count": null,
   "id": "1084f809-3895-4085-a450-76fd614cfa7d",
   "metadata": {},
   "outputs": [],
   "source": [
    "np.kron([[1,2]], [[3,4]])"
   ]
  },
  {
   "cell_type": "code",
   "execution_count": null,
   "id": "469a737c-46a4-4ae4-a503-98ed5ff61627",
   "metadata": {},
   "outputs": [],
   "source": [
    "np.repeat([[1,2], [3,4]], 2, axis=0)#.reshape(-1,2)"
   ]
  },
  {
   "cell_type": "code",
   "execution_count": 122,
   "id": "bc4c6856-735a-4fa4-bc38-40eafb226c85",
   "metadata": {},
   "outputs": [],
   "source": [
    "max_po = 1\n",
    "max_co = 4\n",
    "points_ = list(product(np.linspace(0,max_po,15)/max_po, repeat=3))\n",
    "coef_ = list(product(np.linspace(3,max_co,2)/max_co, repeat=3))\n",
    "\n",
    "points = np.array(points_*len(coef_))\n",
    "coef = np.repeat(coef_,  len(points_), axis=0)\n",
    "\n",
    "features = np.concatenate((points, coef), axis=1)\n",
    "# labels = gyroid.get_bunch(features)\n",
    "# a"
   ]
  },
  {
   "cell_type": "code",
   "execution_count": 123,
   "id": "e3f1212e-4262-4ca6-a7c9-198c9991029f",
   "metadata": {},
   "outputs": [
    {
     "data": {
      "text/plain": [
       "array([[0.        , 0.        , 0.        , 0.75      , 0.75      ,\n",
       "        0.75      ],\n",
       "       [0.        , 0.        , 0.07142857, 0.75      , 0.75      ,\n",
       "        0.75      ],\n",
       "       [0.        , 0.        , 0.14285714, 0.75      , 0.75      ,\n",
       "        0.75      ],\n",
       "       ...,\n",
       "       [1.        , 1.        , 0.85714286, 1.        , 1.        ,\n",
       "        1.        ],\n",
       "       [1.        , 1.        , 0.92857143, 1.        , 1.        ,\n",
       "        1.        ],\n",
       "       [1.        , 1.        , 1.        , 1.        , 1.        ,\n",
       "        1.        ]])"
      ]
     },
     "execution_count": 123,
     "metadata": {},
     "output_type": "execute_result"
    }
   ],
   "source": [
    "features"
   ]
  },
  {
   "cell_type": "code",
   "execution_count": null,
   "id": "fcbb6822-103a-4e84-ac59-d813c1daa42a",
   "metadata": {},
   "outputs": [],
   "source": []
  },
  {
   "cell_type": "code",
   "execution_count": 160,
   "id": "5cf0921c-207e-4abf-88a9-9323461fa611",
   "metadata": {},
   "outputs": [],
   "source": [
    "axis_chuncks = 15"
   ]
  },
  {
   "cell_type": "code",
   "execution_count": 161,
   "id": "b76030a3-e6e5-4994-a650-3558546d12cc",
   "metadata": {},
   "outputs": [],
   "source": [
    "max_po = 1\n",
    "max_co = 1\n",
    "points_ = list(product(np.linspace(0,3,axis_chuncks), repeat=3))\n",
    "coef_ = list(product(np.linspace(1,2,1), repeat=3))\n",
    "\n",
    "points = np.array(points_*len(coef_))\n",
    "coef = np.repeat(coef_,  len(points_), axis=0)\n",
    "\n",
    "features = np.concatenate((points, coef), axis=1)\n",
    "labels = gyroid.get_bunch(features)\n",
    "# a"
   ]
  },
  {
   "cell_type": "code",
   "execution_count": 162,
   "id": "1960d48f-4b60-4ed4-b311-acbfee90f8a2",
   "metadata": {},
   "outputs": [
    {
     "data": {
      "text/plain": [
       "array([ 4.33883739e-01,  1.07147613e+00,  4.29679979e-02, -1.05235357e+00,\n",
       "       -5.11309396e-01,  8.24799480e-01,  8.78379697e-01, -4.33883739e-01,\n",
       "       -1.07147613e+00, -4.29679979e-02,  1.05235357e+00,  5.11309396e-01,\n",
       "       -8.24799480e-01, -8.78379697e-01,  4.33883739e-01,  9.74927912e-01,\n",
       "        1.19186978e+00, -4.44495958e-01, -1.38968909e+00, -1.73973872e-01,\n",
       "        1.31226344e+00,  7.57986043e-01, -9.74927912e-01, -1.19186978e+00,\n",
       "        4.44495958e-01,  1.38968909e+00,  1.73973872e-01, -1.31226344e+00,\n",
       "       -7.57986043e-01,  9.74927912e-01,  1.10218212e-15,  9.74927912e-01,\n",
       "        4.33883739e-01, -7.81831482e-01, -7.81831482e-01,  4.33883739e-01,\n",
       "        9.74927912e-01,  7.34788079e-16, -9.74927912e-01, -4.33883739e-01,\n",
       "        7.81831482e-01,  7.81831482e-01, -4.33883739e-01, -9.74927912e-01,\n",
       "        3.67394040e-16, -9.74927912e-01,  7.57986043e-01,  1.31226344e+00,\n",
       "       -1.73973872e-01, -1.38968909e+00])"
      ]
     },
     "execution_count": 162,
     "metadata": {},
     "output_type": "execute_result"
    }
   ],
   "source": [
    "labels[-150:-100]"
   ]
  },
  {
   "cell_type": "code",
   "execution_count": 163,
   "id": "79ba8578-5740-4723-abb9-ce6176e59cb5",
   "metadata": {},
   "outputs": [],
   "source": [
    "trig_name_function=Gyroid()\n",
    "coef=[(1,1,1)]\n",
    "# axis_chuncks=15\n",
    "\n",
    "features   = []\n",
    "labels = []\n",
    "for  ax, by, cz in coef:\n",
    "    for x, y, z in product(np.linspace(0, 3, axis_chuncks), repeat=3):\n",
    "        features = features + [[x,y,z, ax,by,cz]]\n",
    "        labels   = labels   + [trig_name_function(x,y,z, ax,by,cz)]"
   ]
  },
  {
   "cell_type": "code",
   "execution_count": 164,
   "id": "39c0aa55-34a6-43ac-91c0-c1f96ea92103",
   "metadata": {},
   "outputs": [
    {
     "data": {
      "text/plain": [
       "[0.43388373911755723,\n",
       " 1.0714761270387199,\n",
       " 0.042967997883542886,\n",
       " -1.052353569000163,\n",
       " -0.5113093959358981,\n",
       " 0.8247994803515719,\n",
       " 0.8783796973249264,\n",
       " -0.4338837391175582,\n",
       " -1.0714761270387212,\n",
       " -0.04296799788354655,\n",
       " 1.0523535690001615,\n",
       " 0.5113093959358971,\n",
       " -0.824799480351573,\n",
       " -0.8783796973249278,\n",
       " 0.4338837391175565,\n",
       " 0.9749279121818238,\n",
       " 1.191869781740603,\n",
       " -0.44449595820736837,\n",
       " -1.3896890932608237,\n",
       " -0.17397387167523592,\n",
       " 1.312263436442485,\n",
       " 0.7579860426230451,\n",
       " -0.9749279121818233,\n",
       " -1.1918697817406028,\n",
       " 0.44449595820736576,\n",
       " 1.3896890932608241,\n",
       " 0.1739738716752367,\n",
       " -1.3122634364424846,\n",
       " -0.7579860426230451,\n",
       " 0.9749279121818231,\n",
       " 1.102182119232618e-15,\n",
       " 0.9749279121818244,\n",
       " 0.4338837391175586,\n",
       " -0.7818314824680291,\n",
       " -0.7818314824680289,\n",
       " 0.43388373911755895,\n",
       " 0.9749279121818244,\n",
       " 7.347880794884119e-16,\n",
       " -0.9749279121818228,\n",
       " -0.4338837391175591,\n",
       " 0.7818314824680305,\n",
       " 0.7818314824680307,\n",
       " -0.4338837391175572,\n",
       " -0.974927912181823,\n",
       " 3.6739403974420604e-16,\n",
       " -0.9749279121818234,\n",
       " 0.7579860426230447,\n",
       " 1.3122634364424848,\n",
       " -0.17397387167523548,\n",
       " -1.3896890932608237]"
      ]
     },
     "execution_count": 164,
     "metadata": {},
     "output_type": "execute_result"
    }
   ],
   "source": [
    "# features[-7:]\n",
    "labels[-150:-100]"
   ]
  },
  {
   "cell_type": "code",
   "execution_count": null,
   "id": "d421c415-689d-416b-93b8-668664d96b13",
   "metadata": {},
   "outputs": [],
   "source": []
  },
  {
   "cell_type": "code",
   "execution_count": 114,
   "id": "8eb1f0ff-e46b-47fa-9201-b541a4055852",
   "metadata": {},
   "outputs": [
    {
     "data": {
      "text/plain": [
       "array([[-2.28421959, -2.28421959, -2.28421959,  0.20765633,  0.20765633,\n",
       "         0.20765633],\n",
       "       [-2.28421959, -2.28421959, -2.04689807,  0.20765633,  0.20765633,\n",
       "         0.20765633],\n",
       "       [-2.28421959, -2.28421959, -1.80957656,  0.20765633,  0.20765633,\n",
       "         0.20765633],\n",
       "       ...,\n",
       "       [ 1.03828163,  1.03828163,  0.5636386 ,  1.03828163,  1.03828163,\n",
       "         1.03828163],\n",
       "       [ 1.03828163,  1.03828163,  0.80096012,  1.03828163,  1.03828163,\n",
       "         1.03828163],\n",
       "       [ 1.03828163,  1.03828163,  1.03828163,  1.03828163,  1.03828163,\n",
       "         1.03828163]])"
      ]
     },
     "execution_count": 114,
     "metadata": {},
     "output_type": "execute_result"
    }
   ],
   "source": [
    "(features - features.mean())/features.std()"
   ]
  },
  {
   "cell_type": "code",
   "execution_count": 105,
   "id": "38fdc063-4a39-4389-8475-715f65fce30b",
   "metadata": {},
   "outputs": [],
   "source": [
    "from sklearn.preprocessing import QuantileTransformer,StandardScaler\n",
    "from sklearn.pipeline import Pipeline"
   ]
  },
  {
   "cell_type": "code",
   "execution_count": 108,
   "id": "85e4453d-058d-4ec1-9b96-52582ca1f924",
   "metadata": {},
   "outputs": [
    {
     "name": "stdout",
     "output_type": "stream",
     "text": [
      "(27000, 6)\n"
     ]
    }
   ],
   "source": [
    "print(features.shape)\n",
    "features_scaler = Pipeline([('scale',StandardScaler()),\n",
    "                 # ('normalizing', QuantileTransformer(output_distribution='normal')),\n",
    "                ])"
   ]
  },
  {
   "cell_type": "code",
   "execution_count": 109,
   "id": "c054e96e-ff69-408c-937e-bbc5c41dfe32",
   "metadata": {},
   "outputs": [
    {
     "data": {
      "text/plain": [
       "array([[-1.62018517, -1.62018517, -1.62018517, -1.        , -1.        ,\n",
       "        -1.        ],\n",
       "       [-1.62018517, -1.62018517, -1.38873015, -1.        , -1.        ,\n",
       "        -1.        ],\n",
       "       [-1.62018517, -1.62018517, -1.15727512, -1.        , -1.        ,\n",
       "        -1.        ],\n",
       "       ...,\n",
       "       [ 1.62018517,  1.62018517,  1.15727512,  1.        ,  1.        ,\n",
       "         1.        ],\n",
       "       [ 1.62018517,  1.62018517,  1.38873015,  1.        ,  1.        ,\n",
       "         1.        ],\n",
       "       [ 1.62018517,  1.62018517,  1.62018517,  1.        ,  1.        ,\n",
       "         1.        ]])"
      ]
     },
     "execution_count": 109,
     "metadata": {},
     "output_type": "execute_result"
    }
   ],
   "source": [
    "features_scaler.fit_transform(features)"
   ]
  },
  {
   "cell_type": "code",
   "execution_count": null,
   "id": "62e2a070-1604-4280-a46b-17703a8910a7",
   "metadata": {},
   "outputs": [],
   "source": []
  },
  {
   "cell_type": "code",
   "execution_count": 93,
   "id": "5b426612-bca1-4552-8c7d-e2ab2150a3be",
   "metadata": {},
   "outputs": [],
   "source": [
    "# features[:30]"
   ]
  },
  {
   "cell_type": "code",
   "execution_count": 96,
   "id": "bf6e784a-f67f-4a26-bcf6-bef0b5d7a7be",
   "metadata": {},
   "outputs": [],
   "source": [
    "# features[:15]"
   ]
  },
  {
   "cell_type": "code",
   "execution_count": 97,
   "id": "4692b591-8811-4c36-add5-4d20471a1b89",
   "metadata": {},
   "outputs": [
    {
     "data": {
      "text/plain": [
       "array([ 0.00000000e+00,  3.25412804e-01,  5.86373612e-01,  7.31195934e-01,\n",
       "        7.31195934e-01,  5.86373612e-01,  3.25412804e-01,  9.18485099e-17,\n",
       "       -3.25412804e-01, -5.86373612e-01, -7.31195934e-01, -7.31195934e-01,\n",
       "       -5.86373612e-01, -3.25412804e-01, -1.83697020e-16])"
      ]
     },
     "execution_count": 97,
     "metadata": {},
     "output_type": "execute_result"
    }
   ],
   "source": [
    "gyroid.get_bunch(features[:15])"
   ]
  },
  {
   "cell_type": "code",
   "execution_count": 98,
   "id": "c22976aa-d1a4-4979-b708-145013d35923",
   "metadata": {},
   "outputs": [
    {
     "data": {
      "text/plain": [
       "(array([0., 0., 0., 3., 3., 3.]),\n",
       " array([0., 0., 2., 3., 3., 3.]),\n",
       " array([0., 2., 0., 3., 3., 3.]),\n",
       " array([0., 2., 2., 3., 3., 3.]),\n",
       " array([2., 0., 0., 3., 3., 3.]),\n",
       " array([2., 0., 2., 3., 3., 3.]),\n",
       " array([2., 2., 0., 3., 3., 3.]),\n",
       " array([2., 2., 2., 3., 3., 3.]),\n",
       " array([0., 0., 0., 3., 3., 4.]),\n",
       " array([0., 0., 2., 3., 3., 4.]),\n",
       " array([0., 2., 0., 3., 3., 4.]),\n",
       " array([0., 2., 2., 3., 3., 4.]),\n",
       " array([2., 0., 0., 3., 3., 4.]),\n",
       " array([2., 0., 2., 3., 3., 4.]),\n",
       " array([2., 2., 0., 3., 3., 4.]),\n",
       " array([2., 2., 2., 3., 3., 4.]),\n",
       " array([0., 0., 0., 3., 4., 3.]),\n",
       " array([0., 0., 2., 3., 4., 3.]),\n",
       " array([0., 2., 0., 3., 4., 3.]),\n",
       " array([0., 2., 2., 3., 4., 3.]),\n",
       " array([2., 0., 0., 3., 4., 3.]),\n",
       " array([2., 0., 2., 3., 4., 3.]),\n",
       " array([2., 2., 0., 3., 4., 3.]),\n",
       " array([2., 2., 2., 3., 4., 3.]),\n",
       " array([0., 0., 0., 3., 4., 4.]),\n",
       " array([0., 0., 2., 3., 4., 4.]),\n",
       " array([0., 2., 0., 3., 4., 4.]),\n",
       " array([0., 2., 2., 3., 4., 4.]),\n",
       " array([2., 0., 0., 3., 4., 4.]),\n",
       " array([2., 0., 2., 3., 4., 4.]),\n",
       " array([2., 2., 0., 3., 4., 4.]),\n",
       " array([2., 2., 2., 3., 4., 4.]),\n",
       " array([0., 0., 0., 4., 3., 3.]),\n",
       " array([0., 0., 2., 4., 3., 3.]),\n",
       " array([0., 2., 0., 4., 3., 3.]),\n",
       " array([0., 2., 2., 4., 3., 3.]),\n",
       " array([2., 0., 0., 4., 3., 3.]),\n",
       " array([2., 0., 2., 4., 3., 3.]),\n",
       " array([2., 2., 0., 4., 3., 3.]),\n",
       " array([2., 2., 2., 4., 3., 3.]),\n",
       " array([0., 0., 0., 4., 3., 4.]),\n",
       " array([0., 0., 2., 4., 3., 4.]),\n",
       " array([0., 2., 0., 4., 3., 4.]),\n",
       " array([0., 2., 2., 4., 3., 4.]),\n",
       " array([2., 0., 0., 4., 3., 4.]),\n",
       " array([2., 0., 2., 4., 3., 4.]),\n",
       " array([2., 2., 0., 4., 3., 4.]),\n",
       " array([2., 2., 2., 4., 3., 4.]),\n",
       " array([0., 0., 0., 4., 4., 3.]),\n",
       " array([0., 0., 2., 4., 4., 3.]),\n",
       " array([0., 2., 0., 4., 4., 3.]),\n",
       " array([0., 2., 2., 4., 4., 3.]),\n",
       " array([2., 0., 0., 4., 4., 3.]),\n",
       " array([2., 0., 2., 4., 4., 3.]),\n",
       " array([2., 2., 0., 4., 4., 3.]),\n",
       " array([2., 2., 2., 4., 4., 3.]),\n",
       " array([0., 0., 0., 4., 4., 4.]),\n",
       " array([0., 0., 2., 4., 4., 4.]),\n",
       " array([0., 2., 0., 4., 4., 4.]),\n",
       " array([0., 2., 2., 4., 4., 4.]),\n",
       " array([2., 0., 0., 4., 4., 4.]),\n",
       " array([2., 0., 2., 4., 4., 4.]),\n",
       " array([2., 2., 0., 4., 4., 4.]),\n",
       " array([2., 2., 2., 4., 4., 4.]))"
      ]
     },
     "execution_count": 98,
     "metadata": {},
     "output_type": "execute_result"
    }
   ],
   "source": [
    "tuple((ido))"
   ]
  },
  {
   "cell_type": "code",
   "execution_count": null,
   "id": "d187874d-3769-4e81-9d2f-a88c5a4d9cde",
   "metadata": {},
   "outputs": [],
   "source": [
    "len(points), len(coef), len(a)"
   ]
  },
  {
   "cell_type": "code",
   "execution_count": null,
   "id": "94216c74-3b27-45f8-bdcc-1ed4f151e146",
   "metadata": {},
   "outputs": [],
   "source": [
    "gyroid(a)"
   ]
  },
  {
   "cell_type": "code",
   "execution_count": null,
   "id": "a70ea582-7210-466b-9adc-c777c4e7ce9d",
   "metadata": {},
   "outputs": [],
   "source": []
  },
  {
   "cell_type": "code",
   "execution_count": null,
   "id": "c9bc7597-4b4f-4633-b5c9-0814e7bb370e",
   "metadata": {},
   "outputs": [],
   "source": [
    "model(*a, [1,1,1,  1,1,1])"
   ]
  },
  {
   "cell_type": "code",
   "execution_count": null,
   "id": "3757986f-1f16-4f7d-9728-e4a1eb38da31",
   "metadata": {},
   "outputs": [],
   "source": [
    "from itertools import product"
   ]
  },
  {
   "cell_type": "code",
   "execution_count": null,
   "id": "c48384b2-ade2-4106-91c8-482517bb4907",
   "metadata": {},
   "outputs": [],
   "source": [
    "import torch\n"
   ]
  },
  {
   "cell_type": "code",
   "execution_count": null,
   "id": "c1a79d9f-a707-4aad-b9ef-c0bdbc89945c",
   "metadata": {},
   "outputs": [],
   "source": [
    "a = np.mgrid[:4]"
   ]
  },
  {
   "cell_type": "code",
   "execution_count": null,
   "id": "583ed679-058b-4658-8e18-5cb267dd1443",
   "metadata": {},
   "outputs": [],
   "source": []
  },
  {
   "cell_type": "code",
   "execution_count": null,
   "id": "6babbc66-b234-414d-9840-6f96f5a32ccd",
   "metadata": {},
   "outputs": [],
   "source": []
  },
  {
   "cell_type": "code",
   "execution_count": null,
   "id": "85bf1d7b-086b-483c-86d3-e168abb30d2c",
   "metadata": {},
   "outputs": [],
   "source": []
  },
  {
   "cell_type": "code",
   "execution_count": null,
   "id": "b570b167-8e25-4b46-8946-9a0759ece051",
   "metadata": {},
   "outputs": [],
   "source": []
  },
  {
   "cell_type": "code",
   "execution_count": null,
   "id": "e16eb5ca-fb8a-4304-b38b-c5e098973aea",
   "metadata": {},
   "outputs": [],
   "source": [
    "points.shape"
   ]
  },
  {
   "cell_type": "code",
   "execution_count": null,
   "id": "1c51ec0a-aaa2-4d32-b841-5df602cbe470",
   "metadata": {},
   "outputs": [],
   "source": [
    "code = np.array([1,20,3,4,5,6])\n",
    "a = np.mgrid[:4]\n",
    "\n",
    "points = np.array(list(product(a, repeat=3)))\n",
    "code_repeat = np.array([code]*points.shape[0])\n",
    "# np.append(points, code_repeat, axis=1)"
   ]
  },
  {
   "cell_type": "code",
   "execution_count": null,
   "id": "1c3ce8b8-baf7-4c28-90aa-465ed5e60022",
   "metadata": {},
   "outputs": [],
   "source": [
    "a=np.arange(1000).reshape(10,10,10)"
   ]
  },
  {
   "cell_type": "code",
   "execution_count": null,
   "id": "94b1f00a-8045-4ce5-86c3-02e4b1254a50",
   "metadata": {},
   "outputs": [],
   "source": [
    "points[0]"
   ]
  },
  {
   "cell_type": "code",
   "execution_count": null,
   "id": "7f13ca87-8339-4f21-ad78-e3dd6297e337",
   "metadata": {},
   "outputs": [],
   "source": [
    "a[points[0]] = 1"
   ]
  },
  {
   "cell_type": "code",
   "execution_count": null,
   "id": "bf5b1fb9-a217-4894-80b2-181186882460",
   "metadata": {},
   "outputs": [],
   "source": [
    "a"
   ]
  },
  {
   "cell_type": "code",
   "execution_count": null,
   "id": "e9b97015-0b4b-499e-aefa-3490f0e2ebec",
   "metadata": {},
   "outputs": [],
   "source": [
    "np.append(points, b, axis=1)"
   ]
  },
  {
   "cell_type": "code",
   "execution_count": null,
   "id": "ae6595b6-06a0-4b53-b098-45314c278251",
   "metadata": {},
   "outputs": [],
   "source": []
  },
  {
   "cell_type": "code",
   "execution_count": null,
   "id": "de53bd78-30e4-4825-8bae-f0041e1067b9",
   "metadata": {},
   "outputs": [],
   "source": []
  },
  {
   "cell_type": "code",
   "execution_count": 17,
   "id": "ccbe95f4-97a8-4df7-9386-46b6ab740afe",
   "metadata": {},
   "outputs": [],
   "source": [
    "# testing border cleaning"
   ]
  },
  {
   "cell_type": "code",
   "execution_count": 18,
   "id": "c3308fef-b3c2-4c0d-b50e-55b386a87358",
   "metadata": {},
   "outputs": [],
   "source": [
    "import numpy as np\n",
    "from minisurf.trig import Gyroid, Primitive, FisherS"
   ]
  },
  {
   "cell_type": "code",
   "execution_count": 25,
   "id": "6f5371b3-b2fc-43f7-99e6-fd4b9e8cc624",
   "metadata": {},
   "outputs": [],
   "source": [
    "gyroid = Gyroid()\n",
    "primitive = Primitive()\n",
    "fisher_s= FisherS()"
   ]
  },
  {
   "cell_type": "code",
   "execution_count": 26,
   "id": "6202e78c-d125-43fd-8993-672f16404db0",
   "metadata": {},
   "outputs": [
    {
     "data": {
      "text/plain": [
       "0.8090169943749472"
      ]
     },
     "execution_count": 26,
     "metadata": {},
     "output_type": "execute_result"
    }
   ],
   "source": [
    "gyroid(ax=0, by=1, cz=1, x=0.5, y=0.65, z=0.5)"
   ]
  },
  {
   "cell_type": "code",
   "execution_count": null,
   "id": "ab59af05-b0e5-4a13-85f8-de670e004ace",
   "metadata": {},
   "outputs": [],
   "source": []
  },
  {
   "cell_type": "code",
   "execution_count": 34,
   "id": "66ba2233-5e7a-4562-a110-4bb094138dd4",
   "metadata": {},
   "outputs": [
    {
     "name": "stdout",
     "output_type": "stream",
     "text": [
      "0.8090169943749472\n",
      "0.8090169943749472\n"
     ]
    }
   ],
   "source": [
    "point1 = np.array([0.5, 0.65, 0.5])\n",
    "point2 = np.array([1+0.5, 0.65, 0.5])\n",
    "print(gyroid(ax=1, by=1, cz=1, *(point1)))\n",
    "print(gyroid(ax=0, by=1, cz=1, *(point2)))"
   ]
  },
  {
   "cell_type": "code",
   "execution_count": 38,
   "id": "ff99c3a7-87b9-4bb0-8d75-eab397af9cde",
   "metadata": {},
   "outputs": [
    {
     "name": "stdout",
     "output_type": "stream",
     "text": [
      "-2.5877852522924734\n",
      "-2.5877852522924734\n"
     ]
    }
   ],
   "source": [
    "point1 = np.array([0.5, 0.65, 0.5])\n",
    "point2 = np.array([1+0.5, 0.65, 0.5])\n",
    "print(primitive(ax=1, by=1, cz=1, *(point1)))\n",
    "print(primitive(ax=1, by=1, cz=1, *(point2)))"
   ]
  },
  {
   "cell_type": "code",
   "execution_count": 39,
   "id": "2b99533b-d06c-405a-bf25-5aece60cfdec",
   "metadata": {},
   "outputs": [
    {
     "name": "stdout",
     "output_type": "stream",
     "text": [
      "-0.2212317420824741\n",
      "-0.2212317420824741\n"
     ]
    }
   ],
   "source": [
    "point1 = np.array([0.75, 0.65, 0.5])\n",
    "point2 = np.array([1+0.75, 0.65, 0.5])\n",
    "print(fisher_s(ax=1, by=1, cz=1, *(point1)))\n",
    "print(fisher_s(ax=1, by=1, cz=1, *(point2)))"
   ]
  },
  {
   "cell_type": "code",
   "execution_count": null,
   "id": "ef6ca351-85fe-4532-a0fc-d1d376ade376",
   "metadata": {},
   "outputs": [],
   "source": []
  }
 ],
 "metadata": {
  "kernelspec": {
   "display_name": "Python 3",
   "language": "python",
   "name": "python3"
  },
  "language_info": {
   "codemirror_mode": {
    "name": "ipython",
    "version": 3
   },
   "file_extension": ".py",
   "mimetype": "text/x-python",
   "name": "python",
   "nbconvert_exporter": "python",
   "pygments_lexer": "ipython3",
   "version": "3.9.12"
  }
 },
 "nbformat": 4,
 "nbformat_minor": 5
}
