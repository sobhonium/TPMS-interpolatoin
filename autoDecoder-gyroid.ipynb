{
 "cells": [
  {
   "cell_type": "code",
   "execution_count": 1,
   "id": "1cd0d4f0-166b-49bf-a511-7dd4d02ab474",
   "metadata": {},
   "outputs": [],
   "source": [
    "from vedo import Volume, Text2D, show"
   ]
  },
  {
   "cell_type": "code",
   "execution_count": 2,
   "id": "d5c35241",
   "metadata": {},
   "outputs": [
    {
     "name": "stderr",
     "output_type": "stream",
     "text": [
      "/home/sobhan/miniconda3/envs/ml-dl/lib/python3.9/site-packages/torch/cuda/__init__.py:83: UserWarning: CUDA initialization: The NVIDIA driver on your system is too old (found version 9010). Please update your GPU driver by downloading and installing a new version from the URL: http://www.nvidia.com/Download/index.aspx Alternatively, go to: https://pytorch.org to install a PyTorch version that has been compiled with your version of the CUDA driver. (Triggered internally at  ../c10/cuda/CUDAFunctions.cpp:109.)\n",
      "  return torch._C._cuda_getDeviceCount() > 0\n"
     ]
    }
   ],
   "source": [
    "\n",
    "\n",
    "import torch\n",
    "import torch.nn as nn\n",
    "import torch.nn.functional as F\n",
    "from torch.utils.data import DataLoader\n",
    "import numpy as np"
   ]
  },
  {
   "cell_type": "code",
   "execution_count": 3,
   "id": "f0887ed6",
   "metadata": {},
   "outputs": [],
   "source": [
    "from minisurf.trig import Gyroid"
   ]
  },
  {
   "cell_type": "code",
   "execution_count": 4,
   "id": "7b0d8904-0874-4767-b666-71f3780cc0a6",
   "metadata": {},
   "outputs": [
    {
     "data": {
      "text/plain": [
       "-7.347880794884119e-16"
      ]
     },
     "execution_count": 4,
     "metadata": {},
     "output_type": "execute_result"
    }
   ],
   "source": [
    "gyroid = Gyroid()\n",
    "gyroid(1,1,1)"
   ]
  },
  {
   "cell_type": "code",
   "execution_count": 5,
   "id": "bb5462bb-bb02-490b-964b-522dd60734b1",
   "metadata": {},
   "outputs": [
    {
     "data": {
      "text/plain": [
       "-9.797174393178826e-16"
      ]
     },
     "execution_count": 5,
     "metadata": {},
     "output_type": "execute_result"
    }
   ],
   "source": [
    "gyroid = Gyroid()\n",
    "gyroid(x=1,y=1,z=1,  ax=1,bx=1,cx=2)"
   ]
  },
  {
   "cell_type": "code",
   "execution_count": null,
   "id": "e3c8e4fa-da52-4d12-b2fc-3d9f9fa5fa59",
   "metadata": {},
   "outputs": [],
   "source": []
  },
  {
   "cell_type": "code",
   "execution_count": 6,
   "id": "d436c711",
   "metadata": {},
   "outputs": [],
   "source": [
    "from itertools import product"
   ]
  },
  {
   "cell_type": "code",
   "execution_count": 7,
   "id": "357d99fc-c6aa-4876-be58-87ddeb05058a",
   "metadata": {},
   "outputs": [
    {
     "data": {
      "text/plain": [
       "27"
      ]
     },
     "execution_count": 7,
     "metadata": {},
     "output_type": "execute_result"
    }
   ],
   "source": [
    "len(list (product([1,2,3], repeat=3)))"
   ]
  },
  {
   "cell_type": "code",
   "execution_count": null,
   "id": "b278b701-e314-48f7-bedb-41a7db84b2a2",
   "metadata": {},
   "outputs": [],
   "source": []
  },
  {
   "cell_type": "code",
   "execution_count": 8,
   "id": "58875f9c-1a80-44ab-8818-91faeb5a1add",
   "metadata": {},
   "outputs": [],
   "source": [
    "# for x, y, z in product(np.linspace(0.0, 1, 10), repeat=3):\n",
    "#     print(gyroid(x,y,z))"
   ]
  },
  {
   "cell_type": "code",
   "execution_count": 9,
   "id": "4c90d3c6-2a87-4a22-888f-1064824d52f6",
   "metadata": {},
   "outputs": [
    {
     "name": "stdout",
     "output_type": "stream",
     "text": [
      "2.449293598294706e-16\n",
      "1.224646799147353e-16\n",
      "4.898587196589413e-16\n",
      "3.67394039744206e-16\n",
      "3.6739403974420594e-16\n",
      "2.4492935982947064e-16\n",
      "6.123233995736765e-16\n",
      "4.898587196589412e-16\n"
     ]
    }
   ],
   "source": [
    "x, y, z= 0.5, 1, 0.5\n",
    "for ax, bx, cx in product([1,2,], repeat=3):\n",
    "    print(gyroid(x,y,z, ax,bx,cx))"
   ]
  },
  {
   "cell_type": "code",
   "execution_count": null,
   "id": "1f072ebe-51bc-415a-9609-f9a7b97bac7b",
   "metadata": {},
   "outputs": [],
   "source": []
  },
  {
   "cell_type": "code",
   "execution_count": 10,
   "id": "b2570ec0-e0f2-4f49-b46d-cd2de7b16e02",
   "metadata": {},
   "outputs": [
    {
     "data": {
      "text/plain": [
       "512"
      ]
     },
     "execution_count": 10,
     "metadata": {},
     "output_type": "execute_result"
    }
   ],
   "source": [
    "len(list (product(np.linspace(0.0, 1, 8), repeat=3)))"
   ]
  },
  {
   "cell_type": "code",
   "execution_count": null,
   "id": "bf20693b-9023-4230-bf1e-80e38202c091",
   "metadata": {},
   "outputs": [],
   "source": []
  },
  {
   "cell_type": "code",
   "execution_count": 11,
   "id": "6896db21-e9f9-406b-aef1-0c86ddf3d1fc",
   "metadata": {},
   "outputs": [],
   "source": [
    "data   = []\n",
    "target = []\n",
    "for  ax, bx, cx in product(np.array([1,2,]), repeat=3):\n",
    "    for x, y, z in product(np.linspace(0.0, 1, 15), repeat=3):\n",
    "        # print( ax, bx, cx)\n",
    "        data = data + [[x,y,z, ax,bx,cx]]\n",
    "        target = target + [gyroid(x,y,z, ax,bx,cx)]\n",
    "    "
   ]
  },
  {
   "cell_type": "code",
   "execution_count": 12,
   "id": "7631c245-1988-48c8-a51e-b72a2a8d3f32",
   "metadata": {},
   "outputs": [],
   "source": [
    "# target"
   ]
  },
  {
   "cell_type": "code",
   "execution_count": null,
   "id": "2e4933f7-2e12-4482-9506-d60ced2d46b3",
   "metadata": {},
   "outputs": [],
   "source": []
  },
  {
   "cell_type": "code",
   "execution_count": 13,
   "id": "dbc365a9",
   "metadata": {},
   "outputs": [],
   "source": [
    "# box_siz = 24\n",
    "# num_samples = 1000   # sample data number\n",
    "# rand_radious= torch.randint(3, 150, (num_samples,))/10 # create a random array of raduis\n",
    "# features = box(radius=rand_radious, box_size=box_siz)  # data set"
   ]
  },
  {
   "cell_type": "code",
   "execution_count": 14,
   "id": "f8cfd8d0-af0c-47a3-b086-ccd8a8a24a78",
   "metadata": {},
   "outputs": [],
   "source": [
    "features = torch.tensor(data)"
   ]
  },
  {
   "cell_type": "code",
   "execution_count": 15,
   "id": "a82894fb",
   "metadata": {},
   "outputs": [
    {
     "data": {
      "text/plain": [
       "torch.Size([27000, 6])"
      ]
     },
     "execution_count": 15,
     "metadata": {},
     "output_type": "execute_result"
    }
   ],
   "source": [
    "features.shape"
   ]
  },
  {
   "cell_type": "code",
   "execution_count": 16,
   "id": "854b4374-5a47-43e5-bd4e-2b83b26dc04f",
   "metadata": {},
   "outputs": [
    {
     "data": {
      "text/plain": [
       "tensor([0.0000, 0.0000, 0.3571, 1.0000, 1.0000, 1.0000], dtype=torch.float64)"
      ]
     },
     "execution_count": 16,
     "metadata": {},
     "output_type": "execute_result"
    }
   ],
   "source": [
    "features[5]"
   ]
  },
  {
   "cell_type": "code",
   "execution_count": null,
   "id": "11b882e2-d179-4417-9234-489aaf30047c",
   "metadata": {},
   "outputs": [],
   "source": []
  },
  {
   "cell_type": "code",
   "execution_count": null,
   "id": "62fdd958-bac8-4f21-8a56-10525f42c0bb",
   "metadata": {},
   "outputs": [],
   "source": []
  },
  {
   "cell_type": "code",
   "execution_count": 17,
   "id": "7f242f5a-6f4f-4749-8d83-246324e1211c",
   "metadata": {},
   "outputs": [],
   "source": [
    "# import pandas as pd\n",
    "# _ = pd.DataFrame(features.detach().numpy(), columns=[\"x\", \"y\", \"z\", \"ax\", \"bx\", \"cx\"]).hist()"
   ]
  },
  {
   "cell_type": "code",
   "execution_count": null,
   "id": "9fccec0c-0d6d-4c2e-a067-f0859432688d",
   "metadata": {},
   "outputs": [],
   "source": []
  },
  {
   "cell_type": "code",
   "execution_count": 18,
   "id": "679db69d-0100-469a-9f9b-50b1d1b39288",
   "metadata": {},
   "outputs": [],
   "source": [
    "meaan = torch.mean(features, axis=0)\n",
    "sttd = torch.std(features, axis=0)\n",
    "features = (features - meaan)/sttd"
   ]
  },
  {
   "cell_type": "code",
   "execution_count": 19,
   "id": "f4cc6161-f5fa-4094-bcad-d8af87c1319f",
   "metadata": {},
   "outputs": [],
   "source": [
    "labels = torch.tensor(target)"
   ]
  },
  {
   "cell_type": "code",
   "execution_count": 20,
   "id": "0c1cc51f-6bb8-43ce-8af4-70d9ba79f87d",
   "metadata": {},
   "outputs": [],
   "source": [
    "labels = labels/labels.max()"
   ]
  },
  {
   "cell_type": "code",
   "execution_count": 21,
   "id": "cb92452d-892b-42e1-ab61-4813f4809237",
   "metadata": {},
   "outputs": [],
   "source": [
    "# import pandas as pd\n",
    "# _ = pd.DataFrame(features.detach().numpy(), columns=[\"x\", \"y\", \"z\", \"ax\", \"bx\", \"cx\"]).hist()"
   ]
  },
  {
   "cell_type": "code",
   "execution_count": null,
   "id": "31f8a96e-00e6-4c50-99d2-afe2a18adf42",
   "metadata": {},
   "outputs": [],
   "source": []
  },
  {
   "cell_type": "code",
   "execution_count": 22,
   "id": "038aa495-a54b-4956-a450-6e2a93181e9e",
   "metadata": {},
   "outputs": [],
   "source": [
    "input_dim = 3  # x, y, z poisitons of one pixel\n",
    "hidden_dim = 40 # this one is so decisive"
   ]
  },
  {
   "cell_type": "code",
   "execution_count": null,
   "id": "e38ce6e5-705e-4ac8-850e-25e69d6f44f4",
   "metadata": {},
   "outputs": [],
   "source": []
  },
  {
   "cell_type": "code",
   "execution_count": 23,
   "id": "e96a744e-eadb-4dc1-9294-bd5ff273a559",
   "metadata": {},
   "outputs": [],
   "source": [
    "# defining dropout_layer\n",
    "def dropout_layer(X, dropout):\n",
    "    assert 0 <= dropout <= 1\n",
    "    # In this case, all elements are dropped out\n",
    "    if dropout == 1:\n",
    "        return torch.zeros_like(X)\n",
    "    # In this case, all elements are kept\n",
    "    if dropout == 0:\n",
    "        return X\n",
    "    mask = (torch.rand(X.shape) > dropout).float()\n",
    "    return mask * X / (1.0 - dropout)"
   ]
  },
  {
   "cell_type": "code",
   "execution_count": null,
   "id": "054afed8-8004-4b32-9738-8914ed02ca5e",
   "metadata": {},
   "outputs": [],
   "source": []
  },
  {
   "cell_type": "code",
   "execution_count": 24,
   "id": "35981f30-cb28-4f62-9481-3fb803754ca8",
   "metadata": {},
   "outputs": [],
   "source": [
    "class Model(nn.Module):\n",
    "    def __init__(self):\n",
    "        super(Model, self).__init__()\n",
    "        is_training = True\n",
    "#         self.func1 = nn.Linear(input_dim + code.shape[1], hidden_dim)\n",
    "        # code len is = 3\n",
    "        self.func1 = nn.Linear(input_dim + 3, hidden_dim)\n",
    "\n",
    "        self.func2 = nn.Linear(hidden_dim, hidden_dim)\n",
    "        self.func3 = nn.Linear(hidden_dim, hidden_dim)\n",
    "        self.func4 = nn.Linear(hidden_dim, hidden_dim)\n",
    "        self.func5 = nn.Linear(hidden_dim, 1)\n",
    "        \n",
    "        self.outp = nn.Tanh()\n",
    "        \n",
    "                \n",
    "                \n",
    "    def forward(self, x):\n",
    "#         z = torch.cat((x, code_), axis=0)\n",
    "        z = nn.functional.relu(self.func1(x.float()))\n",
    "#         return self.outp(self.func5(z))\n",
    "            # Use dropout only when training the model\n",
    "        if self.training == True:\n",
    "            # Add a dropout layer after the first fully connected layer\n",
    "            z = dropout_layer(z, dropout=0.080)\n",
    "#         return self.outp(self.func5(z))    \n",
    "        z = nn.functional.relu(self.func2(z.float()))\n",
    "        \n",
    "        if self.training == True:\n",
    "            # Add a dropout layer after the first fully connected layer\n",
    "            z = dropout_layer(z, dropout=0.10)\n",
    "        \n",
    "        z = nn.functional.relu(self.func3(z))\n",
    "        \n",
    "        if self.training == True:\n",
    "            # Add a dropout layer after the first fully connected layer\n",
    "            z = dropout_layer(z, dropout=0.10)\n",
    "        \n",
    "        z = nn.functional.relu(self.func4(z))\n",
    "        \n",
    "        if self.training == True:\n",
    "            # Add a dropout layer after the first fully connected layer\n",
    "            z = dropout_layer(z, dropout=0.10)\n",
    "        \n",
    "        z = self.func5(z)\n",
    "#         z = self.func5(z)\n",
    "        \n",
    "        \n",
    "        return self.outp(z)"
   ]
  },
  {
   "cell_type": "code",
   "execution_count": 25,
   "id": "e943402b-0c9a-4034-8583-76d25a4440d1",
   "metadata": {},
   "outputs": [],
   "source": [
    "model = Model()"
   ]
  },
  {
   "cell_type": "code",
   "execution_count": null,
   "id": "fc22e572-0abe-4195-85ae-bdbbd50a9d4a",
   "metadata": {},
   "outputs": [],
   "source": []
  },
  {
   "cell_type": "code",
   "execution_count": 26,
   "id": "5336661d-d0d3-439c-b340-49fb92c61e23",
   "metadata": {},
   "outputs": [],
   "source": [
    "# labels = labels.reshape(-1,1)"
   ]
  },
  {
   "cell_type": "code",
   "execution_count": 27,
   "id": "16cb6f91-c0b7-4391-a73d-bce8cf55515a",
   "metadata": {},
   "outputs": [
    {
     "data": {
      "text/plain": [
       "torch.Size([27000])"
      ]
     },
     "execution_count": 27,
     "metadata": {},
     "output_type": "execute_result"
    }
   ],
   "source": [
    "labels.shape"
   ]
  },
  {
   "cell_type": "code",
   "execution_count": 28,
   "id": "bf30a6be-1626-41e7-a9cb-4cfb23697bf3",
   "metadata": {},
   "outputs": [],
   "source": [
    "# features[1250]"
   ]
  },
  {
   "cell_type": "code",
   "execution_count": 29,
   "id": "e43ed619-2bbc-4aee-986a-f35c52b8c358",
   "metadata": {},
   "outputs": [
    {
     "data": {
      "text/plain": [
       "tensor([-0.1428], grad_fn=<TanhBackward0>)"
      ]
     },
     "execution_count": 29,
     "metadata": {},
     "output_type": "execute_result"
    }
   ],
   "source": [
    "model(features[20])"
   ]
  },
  {
   "cell_type": "code",
   "execution_count": 30,
   "id": "87a53a1b-773f-4e0f-8a83-bc1b5b7104ef",
   "metadata": {},
   "outputs": [],
   "source": [
    "# torch.cat((a, b), axis=0)"
   ]
  },
  {
   "cell_type": "code",
   "execution_count": 31,
   "id": "2edad134-6642-4b21-852d-382d62bc87e7",
   "metadata": {},
   "outputs": [],
   "source": [
    "from torch.utils import data\n",
    "\n",
    "def load_array(data_arrays, batch_size, is_train=True): #@save\n",
    "    \"\"\"Construct a PyTorch data iterator.\"\"\"\n",
    "    dataset = data.TensorDataset(*data_arrays)\n",
    "    return data.DataLoader(dataset, batch_size, shuffle=is_train)"
   ]
  },
  {
   "cell_type": "code",
   "execution_count": 32,
   "id": "fbe69ae4-e0ef-4711-9fac-fa628b6cd8bb",
   "metadata": {},
   "outputs": [],
   "source": [
    "# for i in range(features[0].shape[0]):\n",
    "#     for j in range(features[0].shape[1]):\n",
    "#         print(model(features[0][i][j]))"
   ]
  },
  {
   "cell_type": "code",
   "execution_count": 33,
   "id": "99b2438c-7991-405c-bfa3-0b17cf8eb4d6",
   "metadata": {},
   "outputs": [
    {
     "name": "stdout",
     "output_type": "stream",
     "text": [
      "x train size= torch.Size([21600, 6]), test size= torch.Size([5400, 6]), batch size= 5400\n",
      "y train size= torch.Size([21600]), test size= torch.Size([5400]), batch size= 5400\n"
     ]
    }
   ],
   "source": [
    "train_x = features[:-features.shape[0]*20//100]\n",
    "test_x  = features[-features.shape[0]*20//100:]\n",
    "train_y = labels[:-labels.shape[0]*20//100]\n",
    "test_y  = labels[-labels.shape[0]*20//100:]\n",
    "\n",
    "batch_size = test_x.shape[0]\n",
    "\n",
    "print(f'x train size= {train_x.shape}, test size= {test_x.shape}, batch size= {batch_size}')\n",
    "print(f'y train size= {train_y.shape}, test size= {test_y.shape}, batch size= {batch_size}')\n",
    "train_loader = load_array((train_x, train_y), batch_size)\n",
    "test_loader  = load_array((test_x, test_y), batch_size)"
   ]
  },
  {
   "cell_type": "code",
   "execution_count": 34,
   "id": "7250528b-7e01-4b6e-a054-01a224fa27bd",
   "metadata": {},
   "outputs": [
    {
     "data": {
      "text/plain": [
       "<generator object Module.parameters at 0x7f64f33f72e0>"
      ]
     },
     "execution_count": 34,
     "metadata": {},
     "output_type": "execute_result"
    }
   ],
   "source": [
    "model.parameters()"
   ]
  },
  {
   "cell_type": "code",
   "execution_count": null,
   "id": "9c56522c-75cb-4e22-9cd3-f59a3e5672d2",
   "metadata": {},
   "outputs": [],
   "source": []
  },
  {
   "cell_type": "code",
   "execution_count": 35,
   "id": "b0ef0ae2-2087-4405-942d-41f91340b521",
   "metadata": {},
   "outputs": [],
   "source": [
    "# hyperparameters\n",
    "\n",
    "lr = 2e-2\n",
    "\n",
    "epochs = 300\n",
    "DEVICE = 'cpu'\n",
    "print_step = 50"
   ]
  },
  {
   "cell_type": "code",
   "execution_count": null,
   "id": "42f1ac26-99ea-4c98-9aee-19f414048fcb",
   "metadata": {},
   "outputs": [],
   "source": []
  },
  {
   "cell_type": "code",
   "execution_count": null,
   "id": "b0c5dc97-2de0-46da-a968-c135af360a98",
   "metadata": {},
   "outputs": [],
   "source": []
  },
  {
   "cell_type": "code",
   "execution_count": 36,
   "id": "bbb88a5a-c6b8-4b3e-af95-574f86077bc1",
   "metadata": {},
   "outputs": [],
   "source": [
    "# features[:-20].shape, features[-20:].shape"
   ]
  },
  {
   "cell_type": "code",
   "execution_count": 37,
   "id": "3d112de2-f680-4304-b959-4d393cc8ee80",
   "metadata": {},
   "outputs": [
    {
     "data": {
      "text/plain": [
       "5400"
      ]
     },
     "execution_count": 37,
     "metadata": {},
     "output_type": "execute_result"
    }
   ],
   "source": [
    "# we want to allow only 20% of data for test and the rest on training data\n",
    "features.shape[0]*20//100"
   ]
  },
  {
   "cell_type": "code",
   "execution_count": null,
   "id": "e8a25b4a-16ca-4900-a43d-d6008feb6fb8",
   "metadata": {},
   "outputs": [],
   "source": []
  },
  {
   "cell_type": "code",
   "execution_count": 38,
   "id": "b13e0a3d-db77-4d56-bdcc-367df66e8da6",
   "metadata": {},
   "outputs": [],
   "source": [
    "# 80% for traning test, and 20% for test\n"
   ]
  },
  {
   "cell_type": "code",
   "execution_count": 39,
   "id": "e0b8f702-0429-4125-92d2-97996e309937",
   "metadata": {},
   "outputs": [
    {
     "data": {
      "text/plain": [
       "(torch.Size([21600, 6]), torch.Size([5400, 6]))"
      ]
     },
     "execution_count": 39,
     "metadata": {},
     "output_type": "execute_result"
    }
   ],
   "source": [
    "train_x.shape, test_x.shape"
   ]
  },
  {
   "cell_type": "code",
   "execution_count": null,
   "id": "97b2c450-e27a-460c-9ffa-18747dbc084a",
   "metadata": {},
   "outputs": [],
   "source": []
  },
  {
   "cell_type": "code",
   "execution_count": null,
   "id": "28042f25-8888-4784-be3e-c5f9769e7b9c",
   "metadata": {},
   "outputs": [],
   "source": []
  },
  {
   "cell_type": "code",
   "execution_count": null,
   "id": "917e4dae-59f6-4574-ae2d-5bcda2386ab0",
   "metadata": {},
   "outputs": [],
   "source": []
  },
  {
   "cell_type": "markdown",
   "id": "99ac29c0-e125-4646-8972-9f3b154b965a",
   "metadata": {},
   "source": [
    "# Training"
   ]
  },
  {
   "cell_type": "code",
   "execution_count": 40,
   "id": "93efecd6-1563-4d87-a28b-cc2d28255ab3",
   "metadata": {},
   "outputs": [],
   "source": [
    "optimizer = torch.optim.Adam(model.parameters(), lr=0.03)"
   ]
  },
  {
   "cell_type": "code",
   "execution_count": 41,
   "id": "5936cb1c-510c-497d-bfcf-b35193f623f7",
   "metadata": {},
   "outputs": [],
   "source": [
    "# torch.randn(3, 5).softmax(dim=1), torch.randn(3, 5)"
   ]
  },
  {
   "cell_type": "code",
   "execution_count": 42,
   "id": "c11f4d97-0c7a-430e-8af0-8a0ea8e8a961",
   "metadata": {},
   "outputs": [],
   "source": [
    "# loss = nn.CrossEntropyLoss(reduction='none')\n",
    "# def loss(y_hat, y):\n",
    "#     return (y_hat-y).sum()\n",
    "loss = nn.MSELoss()\n",
    "# loss = nn.CrossEntropyLoss()\n",
    "# loss = nn.BCEWithLogitsLoss()\n"
   ]
  },
  {
   "cell_type": "code",
   "execution_count": 43,
   "id": "d93c13d0-3c6a-4e12-8728-77bc382fee7f",
   "metadata": {},
   "outputs": [],
   "source": [
    "# num_epochs = 30\n",
    "# for epoch in range(num_epochs):\n",
    "#     for X,Y in train_loader:\n",
    "#     #     print(X,Y)\n",
    "# #         x = X.T\n",
    "# #         y = Y\n",
    "#         print(X.shape,Y.shape, model(X.float()).shape)\n",
    "#         l = loss(model(X.float())[:,0], Y.float())\n",
    "#         optimizer.zero_grad()\n",
    "#         l.backward()\n",
    "#         optimizer.step() #optimizer\n",
    "# #     l = loss(model(x_truth.float()), y_truth.float())\n",
    "# #     print(f'epoch {epoch + 1}, loss {l:f}')"
   ]
  },
  {
   "cell_type": "code",
   "execution_count": null,
   "id": "68fcd110-f62a-471e-9760-97ab9af395f0",
   "metadata": {},
   "outputs": [],
   "source": []
  },
  {
   "cell_type": "code",
   "execution_count": 44,
   "id": "8e6db35f-b9cc-4933-87cf-4f9d2e300077",
   "metadata": {},
   "outputs": [
    {
     "name": "stdout",
     "output_type": "stream",
     "text": [
      "Start training ...\n",
      "\tEpoch 1 complete! \tAverage Loss:  6.65758596158322e-05\n",
      "1.0785289257764816\n",
      "\tEpoch 2 complete! \tAverage Loss:  5.016573049404003e-05\n",
      "0.8126848340034485\n",
      "\tEpoch 3 complete! \tAverage Loss:  4.855421406251413e-05\n",
      "0.7865782678127289\n",
      "\tEpoch 4 complete! \tAverage Loss:  4.844825392887916e-05\n",
      "0.7848617136478424\n",
      "\tEpoch 5 complete! \tAverage Loss:  4.823498335885413e-05\n",
      "0.7814067304134369\n",
      "\tEpoch 6 complete! \tAverage Loss:  4.814285738968555e-05\n",
      "0.7799142897129059\n",
      "\tEpoch 7 complete! \tAverage Loss:  4.8176582764696194e-05\n",
      "0.7804606407880783\n",
      "\tEpoch 8 complete! \tAverage Loss:  4.8089782580917265e-05\n",
      "0.7790544778108597\n",
      "\tEpoch 9 complete! \tAverage Loss:  4.8094153588200796e-05\n",
      "0.7791252881288528\n",
      "\tEpoch 10 complete! \tAverage Loss:  4.811520101847472e-05\n",
      "0.7794662564992905\n",
      "\tEpoch 11 complete! \tAverage Loss:  4.808446967307432e-05\n",
      "0.778968408703804\n",
      "\tEpoch 12 complete! \tAverage Loss:  4.8086244015046105e-05\n",
      "0.778997153043747\n",
      "\tEpoch 13 complete! \tAverage Loss:  4.808469686979129e-05\n",
      "0.7789720892906189\n",
      "\tEpoch 14 complete! \tAverage Loss:  4.807729963903074e-05\n",
      "0.778852254152298\n",
      "\tEpoch 15 complete! \tAverage Loss:  4.8079574365674716e-05\n",
      "0.7788891047239304\n",
      "\tEpoch 16 complete! \tAverage Loss:  4.8081330311151196e-05\n",
      "0.7789175510406494\n",
      "\tEpoch 17 complete! \tAverage Loss:  4.80748317491861e-05\n",
      "0.7788122743368149\n",
      "\tEpoch 18 complete! \tAverage Loss:  4.807543331458245e-05\n",
      "0.7788220196962357\n",
      "\tEpoch 19 complete! \tAverage Loss:  4.8077092678458604e-05\n",
      "0.7788489013910294\n",
      "\tEpoch 20 complete! \tAverage Loss:  4.8070262059753325e-05\n",
      "0.7787382453680038\n",
      "\tEpoch 21 complete! \tAverage Loss:  4.807137964684286e-05\n",
      "0.7787563502788544\n",
      "\tEpoch 22 complete! \tAverage Loss:  4.807055180455431e-05\n",
      "0.7787429392337799\n",
      "\tEpoch 23 complete! \tAverage Loss:  4.8057058895075764e-05\n",
      "0.7785243541002274\n",
      "\tEpoch 24 complete! \tAverage Loss:  4.805059160715268e-05\n",
      "0.7784195840358734\n",
      "\tEpoch 25 complete! \tAverage Loss:  4.804274274243249e-05\n",
      "0.7782924324274063\n",
      "\tEpoch 26 complete! \tAverage Loss:  4.8021947344144184e-05\n",
      "0.7779555469751358\n",
      "\tEpoch 27 complete! \tAverage Loss:  4.79774609392072e-05\n",
      "0.7772348672151566\n",
      "\tEpoch 28 complete! \tAverage Loss:  4.780145247041443e-05\n",
      "0.7743835300207138\n",
      "\tEpoch 29 complete! \tAverage Loss:  4.714204665319419e-05\n",
      "0.7637011557817459\n",
      "\tEpoch 30 complete! \tAverage Loss:  4.49291561488752e-05\n",
      "0.7278523296117783\n",
      "\tEpoch 31 complete! \tAverage Loss:  4.406562741891837e-05\n",
      "0.7138631641864777\n",
      "\tEpoch 32 complete! \tAverage Loss:  4.318685995207892e-05\n",
      "0.6996271312236786\n",
      "\tEpoch 33 complete! \tAverage Loss:  4.276602724452078e-05\n",
      "0.6928096413612366\n",
      "\tEpoch 34 complete! \tAverage Loss:  4.2376655303401714e-05\n",
      "0.6865018159151077\n",
      "\tEpoch 35 complete! \tAverage Loss:  4.14116202313223e-05\n",
      "0.6708682477474213\n",
      "\tEpoch 36 complete! \tAverage Loss:  4.0344547158406106e-05\n",
      "0.6535816639661789\n",
      "\tEpoch 37 complete! \tAverage Loss:  3.961589877252225e-05\n",
      "0.6417775601148605\n",
      "\tEpoch 38 complete! \tAverage Loss:  3.910896770748091e-05\n",
      "0.6335652768611908\n",
      "\tEpoch 39 complete! \tAverage Loss:  3.8113022843996686e-05\n",
      "0.6174309700727463\n",
      "\tEpoch 40 complete! \tAverage Loss:  3.7599761544922254e-05\n",
      "0.6091161370277405\n",
      "\tEpoch 41 complete! \tAverage Loss:  3.739596333032773e-05\n",
      "0.6058146059513092\n",
      "\tEpoch 42 complete! \tAverage Loss:  3.6979018722051456e-05\n",
      "0.5990601032972336\n",
      "\tEpoch 43 complete! \tAverage Loss:  3.6382651255454545e-05\n",
      "0.5893989503383636\n",
      "\tEpoch 44 complete! \tAverage Loss:  3.577047108132162e-05\n",
      "0.5794816315174103\n",
      "\tEpoch 45 complete! \tAverage Loss:  3.525811948893983e-05\n",
      "0.5711815357208252\n",
      "\tEpoch 46 complete! \tAverage Loss:  3.5011668999989826e-05\n",
      "0.5671890377998352\n",
      "\tEpoch 47 complete! \tAverage Loss:  3.447484271025952e-05\n",
      "0.5584924519062042\n",
      "\tEpoch 48 complete! \tAverage Loss:  3.435525721237983e-05\n",
      "0.5565551668405533\n",
      "\tEpoch 49 complete! \tAverage Loss:  3.4350713278040474e-05\n",
      "0.5564815551042557\n",
      "\tEpoch 50 complete! \tAverage Loss:  3.326338474397306e-05\n",
      "0.5388668328523636\n",
      "Finish!!\n"
     ]
    }
   ],
   "source": [
    "\n",
    "print(\"Start training ...\")\n",
    "model.train()\n",
    "\n",
    "for epoch in range(50):\n",
    "    overall_loss = 0\n",
    "    for batch_idx, (x, y) in enumerate(train_loader):\n",
    "        optimizer.zero_grad()\n",
    "        y_hat = model(x.float()).float()\n",
    "        ll = loss(y_hat.flatten(), y.float().flatten())\n",
    "        overall_loss += ll.item()\n",
    "        ll.backward()\n",
    "        optimizer.step()\n",
    "        \n",
    "    print(\"\\tEpoch\", epoch + 1, \"complete!\", \"\\tAverage Loss: \", overall_loss / (batch_idx*batch_size))\n",
    "    print(overall_loss)\n",
    "    \n",
    "print(\"Finish!!\")\n"
   ]
  },
  {
   "cell_type": "code",
   "execution_count": null,
   "id": "8db60d54-48af-484d-aa7e-d2207298e4ba",
   "metadata": {},
   "outputs": [],
   "source": []
  },
  {
   "cell_type": "code",
   "execution_count": null,
   "id": "4db4b808-4ca5-4119-8a66-314480dba110",
   "metadata": {},
   "outputs": [],
   "source": []
  },
  {
   "cell_type": "code",
   "execution_count": 45,
   "id": "b36364f8-85c6-465e-9a0d-549b977af801",
   "metadata": {},
   "outputs": [
    {
     "data": {
      "text/plain": [
       "tensor([0.1930], grad_fn=<TanhBackward0>)"
      ]
     },
     "execution_count": 45,
     "metadata": {},
     "output_type": "execute_result"
    }
   ],
   "source": [
    "model(features[200])"
   ]
  },
  {
   "cell_type": "code",
   "execution_count": null,
   "id": "6632401e-3c17-479a-a0fb-93330e469519",
   "metadata": {},
   "outputs": [],
   "source": []
  },
  {
   "cell_type": "code",
   "execution_count": 46,
   "id": "3ea8e371-b655-46be-9cd3-712638784f7a",
   "metadata": {},
   "outputs": [],
   "source": [
    "# for p in model.parameters():\n",
    "#     print(p)"
   ]
  },
  {
   "cell_type": "code",
   "execution_count": 47,
   "id": "f47f12de-2eb5-475e-83d3-2cc8ce3bbaca",
   "metadata": {},
   "outputs": [
    {
     "name": "stdout",
     "output_type": "stream",
     "text": [
      "('func1', Linear(in_features=6, out_features=40, bias=True))\n",
      "('func2', Linear(in_features=40, out_features=40, bias=True))\n",
      "('func3', Linear(in_features=40, out_features=40, bias=True))\n",
      "('func4', Linear(in_features=40, out_features=40, bias=True))\n",
      "('func5', Linear(in_features=40, out_features=1, bias=True))\n",
      "('outp', Tanh())\n"
     ]
    }
   ],
   "source": [
    "for m in model.named_children():\n",
    "    print(m)"
   ]
  },
  {
   "cell_type": "code",
   "execution_count": null,
   "id": "edf26e7f-ebe5-4f16-ba58-480ce87b3e26",
   "metadata": {},
   "outputs": [],
   "source": []
  },
  {
   "cell_type": "code",
   "execution_count": 48,
   "id": "00b25105-aa70-4964-a3e1-3a0ee6f15549",
   "metadata": {},
   "outputs": [],
   "source": [
    "model.func1.weight.requires_grad = False\n",
    "model.func1.bias.requires_grad = False\n",
    "\n",
    "model.func2.weight.requires_grad = False\n",
    "model.func2.bias.requires_grad = False\n",
    "\n",
    "model.func3.weight.requires_grad = False\n",
    "model.func3.bias.requires_grad = False\n",
    "\n",
    "model.func4.weight.requires_grad = False\n",
    "model.func4.bias.requires_grad = False\n",
    "\n",
    "model.func5.weight.requires_grad = False\n",
    "model.func5.bias.requires_grad = False\n"
   ]
  },
  {
   "cell_type": "code",
   "execution_count": null,
   "id": "ed298d0f-ac96-48e8-b0fe-13f3354468fe",
   "metadata": {},
   "outputs": [],
   "source": []
  },
  {
   "cell_type": "code",
   "execution_count": 49,
   "id": "256e7410-f47d-420e-9212-f8b404887da3",
   "metadata": {},
   "outputs": [
    {
     "data": {
      "text/plain": [
       "False"
      ]
     },
     "execution_count": 49,
     "metadata": {},
     "output_type": "execute_result"
    }
   ],
   "source": [
    "model.func1.weight.requires_grad"
   ]
  },
  {
   "cell_type": "code",
   "execution_count": null,
   "id": "ac03075f-de7d-477c-8bc7-899c1c183aa8",
   "metadata": {},
   "outputs": [],
   "source": []
  },
  {
   "cell_type": "code",
   "execution_count": 50,
   "id": "131b3164-ca8b-4453-87d5-2746c55e9640",
   "metadata": {},
   "outputs": [],
   "source": [
    "# torch.tensor(code [0], requires_grad=True)"
   ]
  },
  {
   "cell_type": "code",
   "execution_count": 51,
   "id": "dfaaeb92-6e48-4911-b9b4-16b0d0e1acb2",
   "metadata": {},
   "outputs": [
    {
     "data": {
      "text/plain": [
       "torch.Size([6])"
      ]
     },
     "execution_count": 51,
     "metadata": {},
     "output_type": "execute_result"
    }
   ],
   "source": [
    "features[0].shape"
   ]
  },
  {
   "cell_type": "code",
   "execution_count": 52,
   "id": "860c6b5a-6ba7-40a0-8944-734e0853b227",
   "metadata": {},
   "outputs": [],
   "source": [
    "# x = torch.tensor(features[0][:2])\n",
    "# codee = torch.tensor(code [0], requires_grad=True)\n",
    "# print(x.shape, codee.shape)\n",
    "# j = torch.cat((x, codee), axis=0)\n",
    "# j\n",
    "# model(j)"
   ]
  },
  {
   "cell_type": "code",
   "execution_count": null,
   "id": "76d3e01b-99fd-47cc-b89b-f2a08d19fa0d",
   "metadata": {},
   "outputs": [],
   "source": []
  },
  {
   "cell_type": "code",
   "execution_count": 53,
   "id": "816eecb2-b7df-4240-98b8-32eb6269f75a",
   "metadata": {},
   "outputs": [
    {
     "data": {
      "text/plain": [
       "<bound method Module.parameters of Model(\n",
       "  (func1): Linear(in_features=6, out_features=40, bias=True)\n",
       "  (func2): Linear(in_features=40, out_features=40, bias=True)\n",
       "  (func3): Linear(in_features=40, out_features=40, bias=True)\n",
       "  (func4): Linear(in_features=40, out_features=40, bias=True)\n",
       "  (func5): Linear(in_features=40, out_features=1, bias=True)\n",
       "  (outp): Tanh()\n",
       ")>"
      ]
     },
     "execution_count": 53,
     "metadata": {},
     "output_type": "execute_result"
    }
   ],
   "source": [
    "model.parameters"
   ]
  },
  {
   "cell_type": "code",
   "execution_count": 54,
   "id": "11a85d6e-5f08-4d6b-b6b9-ba298710d5d9",
   "metadata": {},
   "outputs": [],
   "source": [
    "# features"
   ]
  },
  {
   "cell_type": "code",
   "execution_count": 55,
   "id": "1ee8d7be-92ad-4b71-9245-0a9007f2298b",
   "metadata": {},
   "outputs": [],
   "source": [
    "# code"
   ]
  },
  {
   "cell_type": "code",
   "execution_count": 56,
   "id": "5c386269-44d2-4694-9b88-4448da120630",
   "metadata": {},
   "outputs": [],
   "source": [
    "# (num_samples)/box_siz"
   ]
  },
  {
   "cell_type": "code",
   "execution_count": 57,
   "id": "9d7d2a42-2b7f-440c-9f28-6ddad7bb08e2",
   "metadata": {},
   "outputs": [
    {
     "data": {
      "text/plain": [
       "(tensor([-1.6202, -1.6202, -1.6202, -1.0000, -1.0000, -1.0000],\n",
       "        dtype=torch.float64),\n",
       " tensor([-1.6202,  0.2315, -0.6944, -1.0000, -1.0000, -1.0000],\n",
       "        dtype=torch.float64),\n",
       " tensor([-1.3887, -1.3887,  0.6944, -1.0000, -1.0000, -1.0000],\n",
       "        dtype=torch.float64))"
      ]
     },
     "execution_count": 57,
     "metadata": {},
     "output_type": "execute_result"
    }
   ],
   "source": [
    "features[0], features[124], features[250]"
   ]
  },
  {
   "cell_type": "code",
   "execution_count": null,
   "id": "27e2eb70-af38-4554-8f31-a56ee0ebc8b1",
   "metadata": {},
   "outputs": [],
   "source": []
  },
  {
   "cell_type": "code",
   "execution_count": 58,
   "id": "18c8a50e-5d3f-4fdd-9d8f-b3b680526932",
   "metadata": {},
   "outputs": [],
   "source": [
    "# step = int((num_samples//2)/box_siz)\n",
    "# num_distic_codes = step"
   ]
  },
  {
   "cell_type": "code",
   "execution_count": 59,
   "id": "bab04c07-8e2b-4b61-b6d3-e4b9aa931827",
   "metadata": {},
   "outputs": [],
   "source": [
    "# step"
   ]
  },
  {
   "cell_type": "code",
   "execution_count": 60,
   "id": "54946962-51ca-42b2-aeef-80caf157aa9c",
   "metadata": {},
   "outputs": [
    {
     "data": {
      "text/plain": [
       "torch.Size([3])"
      ]
     },
     "execution_count": 60,
     "metadata": {},
     "output_type": "execute_result"
    }
   ],
   "source": [
    "optim_code = torch.empty(3)\n",
    "optim_code.shape"
   ]
  },
  {
   "cell_type": "code",
   "execution_count": null,
   "id": "b679c053-fdcc-4b08-9ed4-f5d04f4af920",
   "metadata": {},
   "outputs": [],
   "source": []
  },
  {
   "cell_type": "code",
   "execution_count": 61,
   "id": "3fda42ec-11f1-4fed-b8a7-f7bd7533cd7d",
   "metadata": {},
   "outputs": [
    {
     "data": {
      "text/plain": [
       "tensor([[-1.6202, -1.6202, -1.6202, -1.0000, -1.0000, -1.0000],\n",
       "        [-1.6202, -1.6202, -1.3887, -1.0000, -1.0000, -1.0000],\n",
       "        [-1.6202, -1.6202, -1.1573, -1.0000, -1.0000, -1.0000],\n",
       "        [-1.6202, -1.6202, -0.9258, -1.0000, -1.0000, -1.0000],\n",
       "        [-1.6202, -1.6202, -0.6944, -1.0000, -1.0000, -1.0000],\n",
       "        [-1.6202, -1.6202, -0.4629, -1.0000, -1.0000, -1.0000]],\n",
       "       dtype=torch.float64)"
      ]
     },
     "execution_count": 61,
     "metadata": {},
     "output_type": "execute_result"
    }
   ],
   "source": [
    "features[0:6]"
   ]
  },
  {
   "cell_type": "code",
   "execution_count": null,
   "id": "89cc2336-29b4-44ff-89f5-1e8f7c18fea9",
   "metadata": {},
   "outputs": [],
   "source": []
  },
  {
   "cell_type": "code",
   "execution_count": 62,
   "id": "9e6aec24-cc50-479b-a575-14b405c17331",
   "metadata": {},
   "outputs": [],
   "source": [
    "# # for k in range(0, num_samples, step):\n",
    "#     # for each code\n",
    "#     # codee = torch.tensor(code [k])#, requires_grad=True)      \n",
    "# for epoch in range(100):\n",
    "#     overall_loss = 0\n",
    "#     # int((num_samples//2)/box_siz)\n",
    "#     for feat, label in zip(features, labels):\n",
    "#         optimizer.zero_grad()\n",
    "#         # xx = torch.tensor(features[i])\n",
    "#         # x = xx.clone()\n",
    "#         # print(x.shape, codee.shape)\n",
    "#         # X = torch.cat((x, codee), axis=0)\n",
    "#         # X = torch.cat((features[i], codee))\n",
    "#         # X = torch.tensor(features[i], requires_grad=True)\n",
    "#         codee = feat[3:]\n",
    "#         print('before:', codee)\n",
    "        \n",
    "#         x = feat.clone()\n",
    "#         X = torch.tensor([x[0], x[1], x[2], codee[0],codee[1], codee[2]] ,\n",
    "#                          requires_grad=True )\n",
    "#         # X = torch.tensor([x[0], x[1], codee[0], codee[1]], requires_grad=True )\n",
    "#         # print(features[i])\n",
    "#         # print(X.shape)\n",
    "#         # features[i].requires_grad = True\n",
    "#         y_hat = model(X.float()).float()\n",
    "#         l = loss(y_hat, label.float())\n",
    "#         # print(l)\n",
    "#         overall_loss += l.item()\n",
    "#         l.backward()\n",
    "#         # print('x grad=',X.grad)\n",
    "#         # optimizer.step()\n",
    "#         # print(X.grad)\n",
    "#         # print(X)\n",
    "#         X = X -X.grad*0.02/100\n",
    "#         # print(X-features[i])\n",
    "#         codee = torch.tensor(X[3:], requires_grad=True )\n",
    "\n",
    "#         # print(features[i])\n",
    "#         # codee = torch.tensor([X[2], x[3]], requires_grad=True)\n",
    "#         # codee = X[2:3] # only one\n",
    "#         # print('*'*100)\n",
    "#     # print(\"\\tEpoch\", epoch + 1, \"complete!\", \"\\tAverage Loss: \", overall_loss / (batch_idx*batch_size))\n",
    "#     # print(overall_loss)\n",
    "#     print('after:', codee)\n",
    "#     print('='*40)\n",
    "#     # optim_code[k:k+step] = codee\n",
    "# print(\"Finish!!\")"
   ]
  },
  {
   "cell_type": "code",
   "execution_count": null,
   "id": "eae1abde-5f54-4710-af0d-6acb9e363a3b",
   "metadata": {},
   "outputs": [],
   "source": []
  },
  {
   "cell_type": "code",
   "execution_count": null,
   "id": "0bf27886-d322-4308-9fbe-d676dd1de566",
   "metadata": {},
   "outputs": [],
   "source": []
  },
  {
   "cell_type": "code",
   "execution_count": null,
   "id": "7c995301-8e57-4040-aa54-2056ac6a1b69",
   "metadata": {},
   "outputs": [],
   "source": []
  },
  {
   "cell_type": "code",
   "execution_count": null,
   "id": "34340c63-be26-4d8a-9a09-14599ffba7d8",
   "metadata": {},
   "outputs": [],
   "source": []
  },
  {
   "cell_type": "code",
   "execution_count": null,
   "id": "dbd24421-2b5a-4bc7-a217-555753878f35",
   "metadata": {},
   "outputs": [],
   "source": []
  },
  {
   "cell_type": "code",
   "execution_count": null,
   "id": "c2c06a9b-e7c6-4bec-a827-8538e357a81a",
   "metadata": {},
   "outputs": [],
   "source": []
  },
  {
   "cell_type": "code",
   "execution_count": null,
   "id": "4f92b68c-a957-4df6-8919-e4d47786c449",
   "metadata": {},
   "outputs": [],
   "source": []
  },
  {
   "cell_type": "code",
   "execution_count": null,
   "id": "3d077609-991a-48ae-b225-a3277df8b92a",
   "metadata": {},
   "outputs": [],
   "source": []
  },
  {
   "cell_type": "code",
   "execution_count": null,
   "id": "dbe93f4a-36cd-47d0-a0cf-315051803fb4",
   "metadata": {},
   "outputs": [],
   "source": []
  },
  {
   "cell_type": "code",
   "execution_count": null,
   "id": "23093f4f-7b2e-411e-b126-1c66ccf35cdc",
   "metadata": {},
   "outputs": [],
   "source": []
  },
  {
   "cell_type": "code",
   "execution_count": null,
   "id": "e21ac25b-e752-4c51-bee0-0e92dedd0f6a",
   "metadata": {},
   "outputs": [],
   "source": []
  },
  {
   "cell_type": "code",
   "execution_count": null,
   "id": "d9928ce4-982b-456e-a579-bbf43b5a1328",
   "metadata": {},
   "outputs": [],
   "source": []
  },
  {
   "cell_type": "code",
   "execution_count": null,
   "id": "b2d16eea-71f9-4e4e-90ca-15b6edf5b743",
   "metadata": {},
   "outputs": [],
   "source": []
  },
  {
   "cell_type": "code",
   "execution_count": 63,
   "id": "80d7f4d4-30e1-4279-803f-ec7705b3c518",
   "metadata": {},
   "outputs": [],
   "source": [
    "from mpl_toolkits import mplot3d\n",
    "import matplotlib.pyplot as plt"
   ]
  },
  {
   "cell_type": "code",
   "execution_count": 64,
   "id": "dc21fef5-4b8f-464d-829d-a8747b01173f",
   "metadata": {},
   "outputs": [],
   "source": [
    "from vedo import Volume, Text2D, show"
   ]
  },
  {
   "cell_type": "code",
   "execution_count": null,
   "id": "fdd153a2-cb59-4425-b5dd-2552c03d885d",
   "metadata": {},
   "outputs": [],
   "source": []
  },
  {
   "cell_type": "code",
   "execution_count": null,
   "id": "9bd739a2-7b92-47fc-80d7-c2b9b9c5767b",
   "metadata": {},
   "outputs": [],
   "source": []
  },
  {
   "cell_type": "code",
   "execution_count": null,
   "id": "9b4cf543-4b5a-4417-b78d-3286a44d007d",
   "metadata": {},
   "outputs": [],
   "source": []
  },
  {
   "cell_type": "code",
   "execution_count": null,
   "id": "f38948d2-394b-4482-874b-53174e9010ea",
   "metadata": {},
   "outputs": [],
   "source": []
  },
  {
   "cell_type": "code",
   "execution_count": null,
   "id": "e6d67f1b-00a1-403f-8b2e-7dae47bcb294",
   "metadata": {},
   "outputs": [],
   "source": []
  },
  {
   "cell_type": "code",
   "execution_count": null,
   "id": "8e20e834-3927-4f53-9d7a-2a5c8fe87cf5",
   "metadata": {},
   "outputs": [],
   "source": []
  },
  {
   "cell_type": "code",
   "execution_count": null,
   "id": "44b7e708-a66b-43e0-8383-fffe79bf8cec",
   "metadata": {},
   "outputs": [],
   "source": []
  },
  {
   "cell_type": "code",
   "execution_count": null,
   "id": "b582a41b-b1aa-49e9-b6aa-b80f0a606e45",
   "metadata": {},
   "outputs": [],
   "source": []
  },
  {
   "cell_type": "code",
   "execution_count": null,
   "id": "60fd38d1-3fd8-47bf-8c40-0ac5cfb5ff82",
   "metadata": {},
   "outputs": [],
   "source": []
  },
  {
   "cell_type": "code",
   "execution_count": null,
   "id": "3c8cdba0-225d-4366-8d34-84d620b588d2",
   "metadata": {},
   "outputs": [],
   "source": []
  },
  {
   "cell_type": "code",
   "execution_count": null,
   "id": "c3a2d617-89cb-4055-bb4e-d1fc7fff707d",
   "metadata": {},
   "outputs": [],
   "source": []
  },
  {
   "cell_type": "code",
   "execution_count": null,
   "id": "f8c522e5-4f25-4882-a2fb-1d2ec8635e05",
   "metadata": {},
   "outputs": [],
   "source": []
  },
  {
   "cell_type": "code",
   "execution_count": null,
   "id": "b4c85b7c-db39-4b59-b961-aa3a79e3d7d8",
   "metadata": {},
   "outputs": [],
   "source": []
  },
  {
   "cell_type": "code",
   "execution_count": null,
   "id": "84bbba85-6ef3-42ea-a79b-1222c5bd15ab",
   "metadata": {},
   "outputs": [],
   "source": []
  },
  {
   "cell_type": "code",
   "execution_count": 65,
   "id": "9847b05e-1b2a-46d8-9f47-6b481e81eeaa",
   "metadata": {},
   "outputs": [],
   "source": [
    "def visulaize_volume(ax=1, bx=1, cx=1, step_size = 15):\n",
    "\n",
    "    \n",
    "    sc = np.empty((step_size, step_size, step_size))\n",
    "    for idx, x in enumerate(np.linspace(0.0, 1, step_size)):\n",
    "        for idy, y in enumerate(np.linspace(0.0, 1, step_size)):\n",
    "            for idz, z in enumerate(np.linspace(0.0, 1, step_size)):\n",
    "                inp = (torch.tensor([x,y,z,  ax,bx,cx]) - meaan)/sttd\n",
    "                sc[idx, idy, idz]=model(inp)\n",
    "   \n",
    "    vol = Volume(sc)\n",
    "    # print(vol.tonumpy)\n",
    "    vol.add_scalarbar3d()\n",
    "    # print('numpy array from Volume:', vol.tonumpy().shape)\n",
    "\n",
    "    lego = vol.legosurface(vmin=0, vmax=3) # volume of sdf( g(x,y,z) ) > 0\n",
    "    lego.cmap('hot_r', vmin=0, vmax=3).add_scalarbar3d()\n",
    "\n",
    "    text1 = Text2D(__doc__, c='blue')\n",
    "    text2 = Text2D('..and its lego isosurface representation\\nvmin=1, vmax=2', c='dr')\n",
    "\n",
    "    show([(vol,text1), (lego,text2)], N=2, azimuth=10)\n",
    "      "
   ]
  },
  {
   "cell_type": "code",
   "execution_count": 66,
   "id": "1006d986-573d-4af1-bca5-7437e796b29e",
   "metadata": {},
   "outputs": [
    {
     "data": {
      "image/png": "[encoded data removed]",
      "text/plain": [
       "<PIL.Image.Image image mode=RGB size=800x600>"
      ]
     },
     "metadata": {},
     "output_type": "display_data"
    }
   ],
   "source": [
    "visulaize_volume(ax=1, bx=1, cx=1, step_size=15)"
   ]
  },
  {
   "cell_type": "code",
   "execution_count": 67,
   "id": "01325643-4bd7-4fb7-b7a7-ea1c2e944a4f",
   "metadata": {},
   "outputs": [],
   "source": [
    "# visulaize_volume(apply_fun=model, ax=4, bx=1, cx=1.5, step_size=30)"
   ]
  },
  {
   "cell_type": "code",
   "execution_count": null,
   "id": "9f8dbf3c-8a84-414c-81cc-d0b0a6cd6950",
   "metadata": {},
   "outputs": [],
   "source": []
  },
  {
   "cell_type": "code",
   "execution_count": 68,
   "id": "0097faab-4299-4076-9f88-19cb8eea04ad",
   "metadata": {},
   "outputs": [
    {
     "data": {
      "text/plain": [
       "0.19301597774028778"
      ]
     },
     "execution_count": 68,
     "metadata": {},
     "output_type": "execute_result"
    }
   ],
   "source": [
    "float(model(features[0]))"
   ]
  },
  {
   "cell_type": "code",
   "execution_count": null,
   "id": "20749658-98b6-4437-a83d-b54536d31c59",
   "metadata": {},
   "outputs": [],
   "source": []
  },
  {
   "cell_type": "code",
   "execution_count": null,
   "id": "c73e1689-ad4e-4d82-a18e-34ef86005771",
   "metadata": {},
   "outputs": [],
   "source": []
  },
  {
   "cell_type": "code",
   "execution_count": null,
   "id": "363ca9a4-22e0-45f2-8cab-72571b5e1be0",
   "metadata": {},
   "outputs": [],
   "source": []
  }
 ],
 "metadata": {
  "kernelspec": {
   "display_name": "Python 3",
   "language": "python",
   "name": "python3"
  },
  "language_info": {
   "codemirror_mode": {
    "name": "ipython",
    "version": 3
   },
   "file_extension": ".py",
   "mimetype": "text/x-python",
   "name": "python",
   "nbconvert_exporter": "python",
   "pygments_lexer": "ipython3",
   "version": "3.9.12"
  }
 },
 "nbformat": 4,
 "nbformat_minor": 5
}
